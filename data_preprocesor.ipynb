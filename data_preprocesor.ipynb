{
 "cells": [
  {
   "cell_type": "code",
   "execution_count": 6,
   "metadata": {},
   "outputs": [],
   "source": [
    "import os \n",
    "import cv2\n",
    "import cupy as np \n",
    "\n",
    "inp_path=[i for i in os.listdir(\"app/masks\")]"
   ]
  },
  {
   "cell_type": "code",
   "execution_count": 7,
   "metadata": {},
   "outputs": [
    {
     "name": "stdout",
     "output_type": "stream",
     "text": [
      "ISIC_0024307_segmentation.png\n"
     ]
    }
   ],
   "source": [
    "print(inp_path[1])"
   ]
  },
  {
   "cell_type": "code",
   "execution_count": 8,
   "metadata": {},
   "outputs": [
    {
     "name": "stdout",
     "output_type": "stream",
     "text": [
      "Unique Pixel Values: [  0 255]\n"
     ]
    }
   ],
   "source": [
    "import cupy as cp\n",
    "import cv2\n",
    "mask1 = cp.asarray(cv2.imread(\"app/masks/ISIC_0024306_segmentation.png\", cv2.IMREAD_UNCHANGED))\n",
    "unique_values = cp.unique(mask1)\n",
    "print(\"Unique Pixel Values:\",unique_values)"
   ]
  },
  {
   "cell_type": "code",
   "execution_count": 9,
   "metadata": {},
   "outputs": [],
   "source": [
    "#dictionary format for 0=0 and 255=1\n",
    "inp_dict={0:0,255:1}"
   ]
  },
  {
   "cell_type": "code",
   "execution_count": 10,
   "metadata": {},
   "outputs": [],
   "source": [
    "import os\n",
    "import cv2\n",
    "import cupy as cp\n",
    "\n",
    "def mask_conversion(inp_dict, in_path, op_path):\n",
    "    for png_file in in_path:\n",
    "        if png_file.endswith(\".png\"):\n",
    "            inp1 = os.path.join(\"app/masks\",png_file)\n",
    "\n",
    "            # Load back previously created PNG annotation images\n",
    "            image_encoded = cp.fromfile(inp1, dtype=cp.uint8)\n",
    "            \n",
    "            # Converting dict_keys object to a list\n",
    "            keys_list = list(inp_dict.keys())\n",
    "            \n",
    "            # Decode the image using cv2.imdecode\n",
    "            mask = cp.asarray(cv2.imdecode(image_encoded.get(), cv2.IMREAD_UNCHANGED))\n",
    "            \n",
    "            for i in keys_list:\n",
    "                mask[mask == i] = inp_dict[i]\n",
    "                \n",
    "            temp = os.path.join(op_path, os.path.basename(png_file).replace(\"_segmentation.png\",\".png\"))\n",
    "            cp.asarray(cv2.imencode('.png', cp.asnumpy(mask))[1]).tofile(temp)\n",
    "    print(\"success\")"
   ]
  },
  {
   "cell_type": "code",
   "execution_count": 12,
   "metadata": {},
   "outputs": [
    {
     "name": "stdout",
     "output_type": "stream",
     "text": [
      "success\n"
     ]
    }
   ],
   "source": [
    "mask_conversion(inp_dict,inp_path,\"app/converted_masks\")"
   ]
  },
  {
   "cell_type": "code",
   "execution_count": null,
   "metadata": {},
   "outputs": [],
   "source": []
  }
 ],
 "metadata": {
  "kernelspec": {
   "display_name": "Python 3",
   "language": "python",
   "name": "python3"
  },
  "language_info": {
   "codemirror_mode": {
    "name": "ipython",
    "version": 3
   },
   "file_extension": ".py",
   "mimetype": "text/x-python",
   "name": "python",
   "nbconvert_exporter": "python",
   "pygments_lexer": "ipython3",
   "version": "3.10.12"
  }
 },
 "nbformat": 4,
 "nbformat_minor": 2
}
